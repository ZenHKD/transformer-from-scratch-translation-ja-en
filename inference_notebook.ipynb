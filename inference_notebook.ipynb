{
 "cells": [
  {
   "cell_type": "code",
   "execution_count": null,
   "id": "cfd77a7a",
   "metadata": {},
   "outputs": [],
   "source": [
    "import torch\n",
    "import torch.nn as nn\n",
    "from config import get_config, latest_weights_file_path\n",
    "from train import get_model, get_ds, run_validation, beam_search_decode\n",
    "\n",
    "# Define the device\n",
    "device = torch.device(\"cuda\" if torch.cuda.is_available() else \"cpu\")\n",
    "print(\"Using device: \", device)\n",
    "config = get_config()\n",
    "train_dataloader, val_dataloader, tokenizer_src, tokenizer_tgt = get_ds(config)\n",
    "model = get_model(config, tokenizer_src.get_vocab_size(), tokenizer_tgt.get_vocab_size()).to(device)\n",
    "\n",
    "if torch.__version__.startswith(\"2.\"):\n",
    "    print(\"Compiling the model before loading weights...\")\n",
    "    model = torch.compile(model)\n",
    "\n",
    "# Load the pre-trained weights\n",
    "model_filename = latest_weights_file_path(config)\n",
    "state = torch.load(model_filename, map_location=torch.device(device))\n",
    "model.load_state_dict(state['model_state_dict'])"
   ]
  },
  {
   "cell_type": "code",
   "execution_count": null,
   "id": "ea543c66",
   "metadata": {},
   "outputs": [],
   "source": [
    "run_validation(model, val_dataloader, tokenizer_src, tokenizer_tgt, config['seq_len'], device, \n",
    "               lambda msg: print(msg), 0, None, num_examples=30)"
   ]
  },
  {
   "cell_type": "code",
   "execution_count": null,
   "id": "e7b57e18",
   "metadata": {},
   "outputs": [],
   "source": [
    "def translate(sentence: str):\n",
    "    model.eval()\n",
    "    with torch.no_grad():\n",
    "        # Tokenize source\n",
    "        source = tokenizer_src.encode(sentence)\n",
    "        source = torch.cat([\n",
    "            torch.tensor([tokenizer_src.token_to_id('[SOS]')], dtype=torch.int32),\n",
    "            torch.tensor(source.ids, dtype=torch.int32),\n",
    "            torch.tensor([tokenizer_src.token_to_id('[EOS]')], dtype=torch.int32),\n",
    "        ]).to(device)\n",
    "\n",
    "        # Add padding\n",
    "        pad_token_id = tokenizer_src.token_to_id('[PAD]')\n",
    "        num_padding_tokens = config['seq_len'] - len(source)\n",
    "        if num_padding_tokens < 0:\n",
    "            raise ValueError(\"The sentence is too long\")\n",
    "        source = torch.cat([\n",
    "            source,\n",
    "            torch.full((num_padding_tokens,), pad_token_id, dtype=torch.int32, device=device)\n",
    "        ]).unsqueeze(0)\n",
    "        \n",
    "        # Create mask\n",
    "        source_mask = (source != pad_token_id).unsqueeze(1).unsqueeze(1).int().to(device)\n",
    "\n",
    "        # Translate using beam search\n",
    "        model_out = beam_search_decode(model, source, source_mask, tokenizer_src, tokenizer_tgt, config['seq_len'], device)\n",
    "        \n",
    "        # Decode output\n",
    "        return tokenizer_tgt.decode(model_out.detach().cpu().numpy())"
   ]
  },
  {
   "cell_type": "code",
   "execution_count": null,
   "id": "20277b24",
   "metadata": {},
   "outputs": [],
   "source": [
    "my_sentence = \"お元気ですか？\" \n",
    "translation = translate(my_sentence)\n",
    "\n",
    "print(f\"Source: {my_sentence}\")\n",
    "print(f\"Translation: {translation}\")"
   ]
  }
 ],
 "metadata": {
  "kernelspec": {
   "display_name": "myenv",
   "language": "python",
   "name": "python3"
  },
  "language_info": {
   "codemirror_mode": {
    "name": "ipython",
    "version": 3
   },
   "file_extension": ".py",
   "mimetype": "text/x-python",
   "name": "python",
   "nbconvert_exporter": "python",
   "pygments_lexer": "ipython3",
   "version": "3.12.11"
  }
 },
 "nbformat": 4,
 "nbformat_minor": 5
}
