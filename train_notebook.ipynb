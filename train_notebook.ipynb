{
 "cells": [
  {
   "cell_type": "code",
   "execution_count": null,
   "id": "e9ba9809",
   "metadata": {},
   "outputs": [],
   "source": [
    "from config import get_config\n",
    "from train import train_model\n",
    "\n",
    "cfg = get_config()\n",
    "cfg['batch_size'] = 64\n",
    "cfg['num_epochs'] = 10\n",
    "cfg['lr'] = 1e-4\n",
    "cfg['preload'] = \"latest\"\n",
    "\n",
    "for key, value in cfg.items():\n",
    "        print(f\"  - {key}: {value}\")\n",
    "\n",
    "print(\"\\n\" + \"=\"*50)\n",
    "print(\"      STARTING MODEL TRAINING\")\n",
    "print(\"=\"*50 + \"\\n\")\n",
    "\n",
    "train_model(cfg)\n",
    "\n",
    "print(\"\\n\" + \"=\"*50)\n",
    "print(\"      TRAINING FINISHED\")\n",
    "print(\"=\"*50 + \"\\n\")"
   ]
  }
 ],
 "metadata": {
  "kernelspec": {
   "display_name": "myenv",
   "language": "python",
   "name": "python3"
  },
  "language_info": {
   "codemirror_mode": {
    "name": "ipython",
    "version": 3
   },
   "file_extension": ".py",
   "mimetype": "text/x-python",
   "name": "python",
   "nbconvert_exporter": "python",
   "pygments_lexer": "ipython3",
   "version": "3.12.11"
  }
 },
 "nbformat": 4,
 "nbformat_minor": 5
}
